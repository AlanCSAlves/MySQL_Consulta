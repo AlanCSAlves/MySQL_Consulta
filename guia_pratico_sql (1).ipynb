{
  "cells": [
    {
      "cell_type": "markdown",
      "id": "688d60a9",
      "metadata": {
        "id": "688d60a9"
      },
      "source": [
        "# **Guia Prático SQL**"
      ]
    },
    {
      "cell_type": "markdown",
      "source": [
        "Bancos de dados geralmente costumam utilizar data no formato: **AAAA-MM-DD (ano, mês e dia)**.\n",
        "\n",
        "Separadores de decimais são **\".\"** ao invés de **\",\"**.\n",
        "\n",
        "Ordem de inserção dos comandos: **Execução (Join se necessário) - Filtro - Agregação - Ordenação - Limite**\n",
        "\n",
        "Sendo:"
      ],
      "metadata": {
        "id": "EaNiz5KwBvhO"
      },
      "id": "EaNiz5KwBvhO"
    },
    {
      "cell_type": "markdown",
      "id": "9185754b",
      "metadata": {
        "id": "9185754b"
      },
      "source": [
        "## **Execução**"
      ]
    },
    {
      "cell_type": "code",
      "execution_count": null,
      "id": "3f9bf01c",
      "metadata": {
        "id": "3f9bf01c"
      },
      "outputs": [],
      "source": [
        "SELECT\n",
        "    Created_At AS Data_Criacao,\n",
        "    Id AS CodPro,\n",
        "    Title AS Titulo,\n",
        "    Category AS Categoria,\n",
        "    Price AS Preço,\n",
        "    Rating AS Avaliacao\n",
        "FROM Products;"
      ]
    },
    {
      "cell_type": "markdown",
      "id": "5f4c52a4",
      "metadata": {
        "id": "5f4c52a4"
      },
      "source": [
        "### **Operações Aritméticas (resultados em colunas novas)**"
      ]
    },
    {
      "cell_type": "code",
      "execution_count": null,
      "id": "0326d4af",
      "metadata": {
        "id": "0326d4af"
      },
      "outputs": [],
      "source": [
        "SELECT\n",
        "    Id AS ID_Pedido,\n",
        "    User_ID AS Cliente,\n",
        "    Product_ID AS ID_Produto,\n",
        "    Subtotal,\n",
        "    Tax,\n",
        "    Total,\n",
        "    Discount,\n",
        "    Subtotal + Tax AS Soma1,\n",
        "    Subtotal + Tax - Discount AS Soma2,\n",
        "    Tax / Subtotal AS Taxa\n",
        "FROM Orders;"
      ]
    },
    {
      "cell_type": "markdown",
      "id": "70a5d200",
      "metadata": {
        "id": "70a5d200"
      },
      "source": [
        "### **Ordenação e Limite**"
      ]
    },
    {
      "cell_type": "code",
      "execution_count": null,
      "id": "d6bb8a3e",
      "metadata": {
        "id": "d6bb8a3e"
      },
      "outputs": [],
      "source": [
        "SELECT\n",
        "    Product_ID AS ID_Produto,\n",
        "    Subtotal,\n",
        "    Tax,\n",
        "    Subtotal + Tax AS Valor_Total,\n",
        "    Discount,\n",
        "    Discount / (Subtotal + Tax) * 100 AS Percent_Disc,\n",
        "    Total\n",
        "FROM Orders\n",
        "ORDER BY Percent_Disc DESC\n",
        "LIMIT 10;"
      ]
    },
    {
      "cell_type": "markdown",
      "source": [
        "Exemplos de diversos operadores: https://dev.mysql.com/doc/refman/8.4/en/arithmetic-functions.html\n",
        "\n",
        "Funções numéricas e operadores: https://dev.mysql.com/doc/refman/8.4/en/numeric-functions.html"
      ],
      "metadata": {
        "id": "VuTORlfADA8T"
      },
      "id": "VuTORlfADA8T"
    },
    {
      "cell_type": "markdown",
      "id": "c5f9ff09",
      "metadata": {
        "id": "c5f9ff09"
      },
      "source": [
        "## **Filtragem com WHERE**"
      ]
    },
    {
      "cell_type": "code",
      "execution_count": null,
      "id": "e5313817",
      "metadata": {
        "id": "e5313817"
      },
      "outputs": [],
      "source": [
        "SELECT *\n",
        "FROM Users\n",
        "WHERE Created_At > '2022-01-01';\n",
        "\n",
        "SELECT *\n",
        "FROM Products\n",
        "WHERE Category = 'electronics';\n",
        "\n",
        "SELECT *\n",
        "FROM Orders\n",
        "WHERE Total > 100 AND Discount > 0;"
      ]
    },
    {
      "cell_type": "markdown",
      "id": "36a6e27a",
      "metadata": {
        "id": "36a6e27a"
      },
      "source": [
        "### **Cláusula LIKE**"
      ]
    },
    {
      "cell_type": "code",
      "execution_count": null,
      "id": "001dac8b",
      "metadata": {
        "id": "001dac8b"
      },
      "outputs": [],
      "source": [
        "SELECT *\n",
        "FROM Products\n",
        "WHERE Title LIKE '%phone%';"
      ]
    },
    {
      "cell_type": "markdown",
      "id": "150db28a",
      "metadata": {
        "id": "150db28a"
      },
      "source": [
        "### **Ordenação com ORDER BY**"
      ]
    },
    {
      "cell_type": "code",
      "execution_count": null,
      "id": "9d209818",
      "metadata": {
        "id": "9d209818"
      },
      "outputs": [],
      "source": [
        "SELECT *\n",
        "FROM Products\n",
        "ORDER BY Rating DESC;"
      ]
    },
    {
      "cell_type": "markdown",
      "id": "2f425606",
      "metadata": {
        "id": "2f425606"
      },
      "source": [
        "### **Limite de Resultados com LIMIT**"
      ]
    },
    {
      "cell_type": "code",
      "execution_count": null,
      "id": "739ef905",
      "metadata": {
        "id": "739ef905"
      },
      "outputs": [],
      "source": [
        "SELECT *\n",
        "FROM Products\n",
        "ORDER BY Rating DESC\n",
        "LIMIT 5;"
      ]
    },
    {
      "cell_type": "markdown",
      "id": "940818ab",
      "metadata": {
        "id": "940818ab"
      },
      "source": [
        "### **DISTINCT: Elimina Duplicados**"
      ]
    },
    {
      "cell_type": "code",
      "execution_count": null,
      "id": "86891c43",
      "metadata": {
        "id": "86891c43"
      },
      "outputs": [],
      "source": [
        "SELECT DISTINCT Category\n",
        "FROM Products;"
      ]
    },
    {
      "cell_type": "markdown",
      "id": "29ee3af0",
      "metadata": {
        "id": "29ee3af0"
      },
      "source": [
        "### **Funções Agregadas**"
      ]
    },
    {
      "cell_type": "code",
      "execution_count": null,
      "id": "70eaa67e",
      "metadata": {
        "id": "70eaa67e"
      },
      "outputs": [],
      "source": [
        "SELECT COUNT(*) FROM Users;\n",
        "SELECT COUNT(*) FROM Orders WHERE Discount > 0;\n",
        "\n",
        "SELECT MAX(Price) FROM Products;\n",
        "SELECT MIN(Price) FROM Products;\n",
        "\n",
        "SELECT AVG(Rating) FROM Products;\n",
        "SELECT SUM(Total) FROM Orders;"
      ]
    },
    {
      "cell_type": "markdown",
      "id": "d2091327",
      "metadata": {
        "id": "d2091327"
      },
      "source": [
        "### **GROUP BY**"
      ]
    },
    {
      "cell_type": "code",
      "execution_count": null,
      "id": "b09a9465",
      "metadata": {
        "id": "b09a9465"
      },
      "outputs": [],
      "source": [
        "SELECT Category, COUNT(*) AS Qtd_Produtos\n",
        "FROM Products\n",
        "GROUP BY Category;\n",
        "\n",
        "SELECT User_ID, SUM(Total) AS Total_Compras\n",
        "FROM Orders\n",
        "GROUP BY User_ID;"
      ]
    },
    {
      "cell_type": "markdown",
      "id": "2df90e8c",
      "metadata": {
        "id": "2df90e8c"
      },
      "source": [
        "### **HAVING (Filtra após o agrupamento)**"
      ]
    },
    {
      "cell_type": "code",
      "execution_count": null,
      "id": "7d254f3e",
      "metadata": {
        "id": "7d254f3e"
      },
      "outputs": [],
      "source": [
        "SELECT User_ID, SUM(Total) AS Total_Compras\n",
        "FROM Orders\n",
        "GROUP BY User_ID\n",
        "HAVING Total_Compras > 500;"
      ]
    },
    {
      "cell_type": "markdown",
      "id": "052cb378",
      "metadata": {
        "id": "052cb378"
      },
      "source": [
        "### **ORDER BY com GROUP BY**"
      ]
    },
    {
      "cell_type": "code",
      "execution_count": null,
      "id": "b0bfe885",
      "metadata": {
        "id": "b0bfe885"
      },
      "outputs": [],
      "source": [
        "SELECT User_ID, COUNT(*) AS Qtd_Pedidos\n",
        "FROM Orders\n",
        "GROUP BY User_ID\n",
        "ORDER BY Qtd_Pedidos DESC;"
      ]
    },
    {
      "cell_type": "markdown",
      "id": "a32de330",
      "metadata": {
        "id": "a32de330"
      },
      "source": [
        "### **INNER JOIN**"
      ]
    },
    {
      "cell_type": "code",
      "execution_count": null,
      "id": "828d2c7f",
      "metadata": {
        "id": "828d2c7f"
      },
      "outputs": [],
      "source": [
        "SELECT\n",
        "    Orders.Id AS ID_Pedido,\n",
        "    Users.Name AS Cliente,\n",
        "    Products.Title AS Produto,\n",
        "    Orders.Total\n",
        "FROM Orders\n",
        "INNER JOIN Users ON Orders.User_ID = Users.Id\n",
        "INNER JOIN Products ON Orders.Product_ID = Products.Id;"
      ]
    },
    {
      "cell_type": "markdown",
      "id": "4c7b7707",
      "metadata": {
        "id": "4c7b7707"
      },
      "source": [
        "### **LEFT JOIN**"
      ]
    },
    {
      "cell_type": "code",
      "execution_count": null,
      "id": "d86831fc",
      "metadata": {
        "id": "d86831fc"
      },
      "outputs": [],
      "source": [
        "SELECT\n",
        "    Users.Id AS ID_Cliente,\n",
        "    Users.Name AS Nome,\n",
        "    Orders.Id AS Pedido,\n",
        "    Orders.Total\n",
        "FROM Users\n",
        "LEFT JOIN Orders ON Users.Id = Orders.User_ID;"
      ]
    },
    {
      "cell_type": "markdown",
      "id": "c844bc00",
      "metadata": {
        "id": "c844bc00"
      },
      "source": [
        "### **RIGHT JOIN**"
      ]
    },
    {
      "cell_type": "code",
      "execution_count": null,
      "id": "788034cb",
      "metadata": {
        "id": "788034cb"
      },
      "outputs": [],
      "source": [
        "SELECT\n",
        "    Orders.Id AS Pedido,\n",
        "    Orders.Total,\n",
        "    Users.Name AS Cliente\n",
        "FROM Orders\n",
        "RIGHT JOIN Users ON Orders.User_ID = Users.Id;"
      ]
    },
    {
      "cell_type": "markdown",
      "id": "002e83bf",
      "metadata": {
        "id": "002e83bf"
      },
      "source": [
        "### **FULL OUTER JOIN**"
      ]
    },
    {
      "cell_type": "code",
      "execution_count": null,
      "id": "d0d2a4c0",
      "metadata": {
        "id": "d0d2a4c0"
      },
      "outputs": [],
      "source": [
        "SELECT *\n",
        "FROM Users\n",
        "LEFT JOIN Orders ON Users.Id = Orders.User_ID\n",
        "UNION\n",
        "SELECT *\n",
        "FROM Users\n",
        "RIGHT JOIN Orders ON Users.Id = Orders.User_ID;"
      ]
    },
    {
      "cell_type": "markdown",
      "id": "c5a20976",
      "metadata": {
        "id": "c5a20976"
      },
      "source": [
        "### **Subqueries (Consultas Aninhadas)**"
      ]
    },
    {
      "cell_type": "code",
      "execution_count": null,
      "id": "69800046",
      "metadata": {
        "id": "69800046"
      },
      "outputs": [],
      "source": [
        "SELECT *\n",
        "FROM Orders\n",
        "WHERE Total > (\n",
        "    SELECT AVG(Total)\n",
        "    FROM Orders\n",
        ");\n",
        "\n",
        "SELECT Name\n",
        "FROM Users\n",
        "WHERE Id IN (\n",
        "    SELECT User_ID\n",
        "    FROM Orders\n",
        "    WHERE Discount > 0\n",
        ");"
      ]
    },
    {
      "cell_type": "markdown",
      "id": "bd1a9f1c",
      "metadata": {
        "id": "bd1a9f1c"
      },
      "source": [
        "### **CTE - Common Table Expression**"
      ]
    },
    {
      "cell_type": "code",
      "execution_count": null,
      "id": "fc324dd6",
      "metadata": {
        "id": "fc324dd6"
      },
      "outputs": [],
      "source": [
        "WITH PedidosPorCliente AS (\n",
        "    SELECT User_ID, SUM(Total) AS Total_Compras\n",
        "    FROM Orders\n",
        "    GROUP BY User_ID\n",
        ")\n",
        "SELECT\n",
        "    Users.Name AS Cliente,\n",
        "    PedidosPorCliente.Total_Compras\n",
        "FROM PedidosPorCliente\n",
        "INNER JOIN Users ON PedidosPorCliente.User_ID = Users.Id\n",
        "WHERE PedidosPorCliente.Total_Compras > 500;"
      ]
    },
    {
      "cell_type": "markdown",
      "id": "a9c1f4f3",
      "metadata": {
        "id": "a9c1f4f3"
      },
      "source": [
        "### **Funções com Datas**"
      ]
    },
    {
      "cell_type": "code",
      "execution_count": null,
      "id": "d5f46f5a",
      "metadata": {
        "id": "d5f46f5a"
      },
      "outputs": [],
      "source": [
        "SELECT\n",
        "    Id,\n",
        "    Created_At,\n",
        "    DATE(Created_At) AS Data,\n",
        "    strftime('%Y', Created_At) AS Ano,\n",
        "    strftime('%m', Created_At) AS Mes,\n",
        "    strftime('%Y-%m', Created_At) AS AnoMes\n",
        "FROM Orders;"
      ]
    },
    {
      "cell_type": "markdown",
      "id": "754f9671",
      "metadata": {
        "id": "754f9671"
      },
      "source": [
        "### **CASE WHEN**"
      ]
    },
    {
      "cell_type": "code",
      "execution_count": null,
      "id": "d91c76ad",
      "metadata": {
        "id": "d91c76ad"
      },
      "outputs": [],
      "source": [
        "SELECT\n",
        "    Id,\n",
        "    Total,\n",
        "    CASE\n",
        "        WHEN Total > 1000 THEN 'Alto'\n",
        "        WHEN Total BETWEEN 500 AND 1000 THEN 'Médio'\n",
        "        ELSE 'Baixo'\n",
        "    END AS Faixa_Valor\n",
        "FROM Orders;"
      ]
    },
    {
      "cell_type": "markdown",
      "id": "31101dd1",
      "metadata": {
        "id": "31101dd1"
      },
      "source": [
        "### **Criação de Tabela**"
      ]
    },
    {
      "cell_type": "code",
      "execution_count": null,
      "id": "259dd2e5",
      "metadata": {
        "id": "259dd2e5"
      },
      "outputs": [],
      "source": [
        "CREATE TABLE Vendas (\n",
        "    Id INTEGER PRIMARY KEY,\n",
        "    Produto TEXT,\n",
        "    Quantidade INTEGER,\n",
        "    Valor REAL,\n",
        "    Data DATE\n",
        ");"
      ]
    },
    {
      "cell_type": "markdown",
      "id": "f7c271fc",
      "metadata": {
        "id": "f7c271fc"
      },
      "source": [
        "### **Inserção de Dados**"
      ]
    },
    {
      "cell_type": "code",
      "execution_count": null,
      "id": "d610806c",
      "metadata": {
        "id": "d610806c"
      },
      "outputs": [],
      "source": [
        "INSERT INTO Vendas (Produto, Quantidade, Valor, Data)\n",
        "VALUES ('Mouse', 10, 25.5, '2023-06-01');"
      ]
    },
    {
      "cell_type": "markdown",
      "id": "1f434126",
      "metadata": {
        "id": "1f434126"
      },
      "source": [
        "### **Atualização de Registros**"
      ]
    },
    {
      "cell_type": "code",
      "execution_count": null,
      "id": "268accb0",
      "metadata": {
        "id": "268accb0"
      },
      "outputs": [],
      "source": [
        "UPDATE Vendas\n",
        "SET Valor = 30\n",
        "WHERE Produto = 'Mouse';"
      ]
    },
    {
      "cell_type": "markdown",
      "id": "72d8ab3c",
      "metadata": {
        "id": "72d8ab3c"
      },
      "source": [
        "### **Exclusão de Registros**"
      ]
    },
    {
      "cell_type": "code",
      "execution_count": null,
      "id": "fc877c32",
      "metadata": {
        "id": "fc877c32"
      },
      "outputs": [],
      "source": [
        "DELETE FROM Vendas\n",
        "WHERE Quantidade = 0;"
      ]
    },
    {
      "cell_type": "markdown",
      "id": "3d04ce72",
      "metadata": {
        "id": "3d04ce72"
      },
      "source": [
        "### **DROP TABLE**"
      ]
    },
    {
      "cell_type": "code",
      "execution_count": null,
      "id": "d6390ce8",
      "metadata": {
        "id": "d6390ce8"
      },
      "outputs": [],
      "source": [
        "DROP TABLE Vendas;"
      ]
    }
  ],
  "metadata": {
    "colab": {
      "provenance": [],
      "toc_visible": true
    }
  },
  "nbformat": 4,
  "nbformat_minor": 5
}