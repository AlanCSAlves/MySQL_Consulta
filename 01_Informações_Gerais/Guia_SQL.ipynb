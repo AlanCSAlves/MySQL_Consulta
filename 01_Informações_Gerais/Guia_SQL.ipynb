{
 "cells": [
  {
   "cell_type": "markdown",
   "id": "688d60a9",
   "metadata": {
    "id": "688d60a9"
   },
   "source": [
    "# **Guia Prático SQL**"
   ]
  },
  {
   "cell_type": "markdown",
   "id": "EaNiz5KwBvhO",
   "metadata": {
    "id": "EaNiz5KwBvhO"
   },
   "source": [
    "Bancos de dados geralmente costumam utilizar data no formato: **AAAA-MM-DD (ano, mês e dia)**.\n",
    "\n",
    "Separadores de decimais são **\".\"** ao invés de **\",\"**.\n",
    "\n",
    "Ordem de inserção dos comandos: **Execução (Join se necessário) - Filtro - Agregação - Ordenação - Limite**\n",
    "\n",
    "Sendo:"
   ]
  },
  {
   "cell_type": "code",
   "execution_count": null,
   "id": "caO7r9zgK279",
   "metadata": {
    "id": "caO7r9zgK279"
   },
   "outputs": [],
   "source": [
    "SELECT\n",
    "    P.Title AS Produto,\n",
    "    COUNT(O.Id) AS Qtd_Pedidos,\n",
    "    SUM(O.Total) AS Valor_Total_Vendido\n",
    "FROM Orders O\n",
    "#Mostra o nome do produto, a quantidade de pedidos e a soma total das vendas.\n",
    "\n",
    "INNER JOIN Products P ON O.Product_ID = P.Id\n",
    "#Junta Orders com Products para acessar o nome do produto.\n",
    "\n",
    "WHERE O.Discount > 0 AND O.Created_At >= '2023-01-01'\n",
    "#Filtra os pedidos com desconto (Discount > 0) e somente os a partir de 2023-01-01.\n",
    "\n",
    "GROUP BY P.Title\n",
    "#Agrupa os resultados por produto.\n",
    "\n",
    "HAVING SUM(O.Total) > 1000\n",
    "#Mantém apenas os produtos com mais de R$1000 em vendas totais (Outro filtro se necessário).\n",
    "\n",
    "ORDER BY Valor_Total_Vendido DESC\n",
    "#Ordena os resultados pelos produtos mais vendidos (em valor).\n",
    "\n",
    "LIMIT 5;\n",
    "#Exibe somente os 5 produtos mais vendidos."
   ]
  },
  {
   "cell_type": "markdown",
   "id": "Q1vvUtp2MiDE",
   "metadata": {
    "id": "Q1vvUtp2MiDE"
   },
   "source": [
    "Desmembrando cada etapa abaixo:"
   ]
  },
  {
   "cell_type": "markdown",
   "id": "9185754b",
   "metadata": {
    "id": "9185754b"
   },
   "source": [
    "## **Execução**"
   ]
  },
  {
   "cell_type": "code",
   "execution_count": null,
   "id": "3f9bf01c",
   "metadata": {
    "id": "3f9bf01c"
   },
   "outputs": [],
   "source": [
    "SELECT\n",
    "    Created_At AS Data_Criacao,\n",
    "    Id AS CodPro,\n",
    "    Title AS Titulo,\n",
    "    Category AS Categoria,\n",
    "    Price AS Preço,\n",
    "    Rating AS Avaliacao\n",
    "FROM Products;"
   ]
  },
  {
   "cell_type": "markdown",
   "id": "5f4c52a4",
   "metadata": {
    "id": "5f4c52a4"
   },
   "source": [
    "### **Operações Aritméticas (resultados em colunas novas)**"
   ]
  },
  {
   "cell_type": "code",
   "execution_count": null,
   "id": "0326d4af",
   "metadata": {
    "id": "0326d4af"
   },
   "outputs": [],
   "source": [
    "SELECT\n",
    "    Id AS ID_Pedido,\n",
    "    User_ID AS Cliente,\n",
    "    Product_ID AS ID_Produto,\n",
    "    Subtotal,\n",
    "    Tax,\n",
    "    Total,\n",
    "    Discount,\n",
    "    Subtotal + Tax AS Soma1,\n",
    "    Subtotal + Tax - Discount AS Soma2,\n",
    "    Tax / Subtotal AS Taxa\n",
    "FROM Orders;"
   ]
  },
  {
   "cell_type": "markdown",
   "id": "70a5d200",
   "metadata": {
    "id": "70a5d200"
   },
   "source": [
    "### **Ordenação e Limite (inserindo um limite de linhas para a demonstração das informações)**"
   ]
  },
  {
   "cell_type": "code",
   "execution_count": null,
   "id": "d6bb8a3e",
   "metadata": {
    "id": "d6bb8a3e"
   },
   "outputs": [],
   "source": [
    "SELECT\n",
    "    Product_ID AS ID_Produto,\n",
    "    Subtotal,\n",
    "    Tax,\n",
    "    Subtotal + Tax AS Valor_Total,\n",
    "    Discount,\n",
    "    Discount / (Subtotal + Tax) * 100 AS Percent_Disc,\n",
    "    Total\n",
    "FROM Orders\n",
    "ORDER BY Percent_Disc DESC\n",
    "LIMIT 10;"
   ]
  },
  {
   "cell_type": "markdown",
   "id": "VuTORlfADA8T",
   "metadata": {
    "id": "VuTORlfADA8T"
   },
   "source": [
    "Exemplos de diversos operadores: https://dev.mysql.com/doc/refman/8.4/en/arithmetic-functions.html\n",
    "\n",
    "Funções numéricas e operadores: https://dev.mysql.com/doc/refman/8.4/en/numeric-functions.html"
   ]
  },
  {
   "cell_type": "markdown",
   "id": "E4y2kgS0Mvd1",
   "metadata": {
    "id": "E4y2kgS0Mvd1"
   },
   "source": [
    "## **Join - Junção entre Tabelas**\n"
   ]
  },
  {
   "cell_type": "markdown",
   "id": "MWZiEK6UMwzG",
   "metadata": {
    "id": "MWZiEK6UMwzG"
   },
   "source": [
    "Devem ser aplicados na etapa de execução, logo após a descrição do SELECT"
   ]
  },
  {
   "cell_type": "markdown",
   "id": "ZO0M7PvlMxkN",
   "metadata": {
    "id": "ZO0M7PvlMxkN"
   },
   "source": [
    "Os Joins (conexões) são possíveis somente entre tabelas que possuem chaves que se comunicam, ou seja, possuem uma chave em comum para ligação (Primary_Keys e Foreign_Keys)\n"
   ]
  },
  {
   "cell_type": "markdown",
   "id": "M8caqeRTN42F",
   "metadata": {
    "id": "M8caqeRTN42F"
   },
   "source": [
    "Sendo os principais tipos:\n",
    "\n",
    "* Left Join - Traz tudo da tabela primária e somente a correspondencia da tabela secundária - Tipo PROCV\n",
    "\n",
    "* Right Join - Reverte a primária, trazendo a correspondencia da tabela secundária\n",
    "\n",
    "* Inner Join - Traz somente o que se corresponde nas 2 tabelas\n",
    "\n",
    "* Full Join - Traz tudo das 2 tabelas, mesmo que não hajam correspondencias\n",
    "\n",
    "* Cross Join - Repete todas as linhas da Tabela 1 para cada linha da tabela 2"
   ]
  },
  {
   "cell_type": "markdown",
   "id": "H0Nk5RC5OKDU",
   "metadata": {
    "id": "H0Nk5RC5OKDU"
   },
   "source": [
    "Expressão geral:\n",
    "\n"
   ]
  },
  {
   "cell_type": "code",
   "execution_count": null,
   "id": "ffG8rjWKMx8G",
   "metadata": {
    "id": "ffG8rjWKMx8G"
   },
   "outputs": [],
   "source": [
    "SELECT select_expression FROM table_1\n",
    "\n",
    "JOIN table_2 ON table_1.key = table_2.key\n",
    "\n",
    "Neste exemplo:\n",
    "\n",
    "table_2 #Tabela que queremos AS informações\n",
    "table_1.key #table_1.key Corresponde a coluna da tabela_1 que contém a chave primária (ponto de conexão)\n",
    "table_2.key #table_2.key Corresponde a coluna da tabela_2 que contém a chave estrangeira (ponto de conexão)"
   ]
  },
  {
   "cell_type": "markdown",
   "id": "3j2Mv2dvQH6-",
   "metadata": {
    "id": "3j2Mv2dvQH6-"
   },
   "source": [
    "Aos descrevermos as colunas que queremos trazer no SELECT, podemos trazer as colunas da tabela conectada, por ex:"
   ]
  },
  {
   "cell_type": "code",
   "execution_count": null,
   "id": "NbbyWYgnQTt1",
   "metadata": {
    "id": "NbbyWYgnQTt1"
   },
   "outputs": [],
   "source": [
    "  SELECT\n",
    "       Products.Id AS Product_ID, #Onde os nomes coincidem\n",
    "       Title,\n",
    "       Category,\n",
    "       Price,\n",
    "       Reviews.Id AS Review_ID,\n",
    "       Product_ID,\n",
    "       Reviewer,\n",
    "       Body\n",
    "  FROM Products\n",
    "\n",
    "  LEFT JOIN Reviews ON Products.ID = Reviews.Product_ID\n",
    "\n",
    "  WHERE Reviews.Id IS null"
   ]
  },
  {
   "cell_type": "markdown",
   "id": "hmlzfhOZaL_N",
   "metadata": {
    "id": "hmlzfhOZaL_N"
   },
   "source": [
    "Colunas com o mesmo nome pode conflitar, o ideal é renomear para um título mais amigável"
   ]
  },
  {
   "cell_type": "markdown",
   "id": "4c7b7707",
   "metadata": {
    "id": "4c7b7707"
   },
   "source": [
    "### Exemplo **LEFT JOIN**"
   ]
  },
  {
   "cell_type": "code",
   "execution_count": null,
   "id": "d86831fc",
   "metadata": {
    "id": "d86831fc"
   },
   "outputs": [],
   "source": [
    "#Traz tudo da tabela primária e somente a correspondencia da tabela secundária - Tipo PROCV\n",
    "\n",
    "SELECT\n",
    "    Users.Id AS ID_Cliente,\n",
    "    Users.Name AS Nome,\n",
    "    Orders.Id AS Pedido,\n",
    "    Orders.Total\n",
    "FROM Users\n",
    "LEFT JOIN Orders ON Users.Id = Orders.User_ID;"
   ]
  },
  {
   "cell_type": "markdown",
   "id": "c844bc00",
   "metadata": {
    "id": "c844bc00"
   },
   "source": [
    "### Exemplo **RIGHT JOIN**"
   ]
  },
  {
   "cell_type": "code",
   "execution_count": null,
   "id": "788034cb",
   "metadata": {
    "id": "788034cb"
   },
   "outputs": [],
   "source": [
    "#Reverte a primária, trazendo a correspondencia da tabela secundária\n",
    "\n",
    "SELECT\n",
    "    Orders.Id AS Pedido,\n",
    "    Orders.Total,\n",
    "    Users.Name AS Cliente\n",
    "FROM Orders\n",
    "RIGHT JOIN Users ON Orders.User_ID = Users.Id;"
   ]
  },
  {
   "cell_type": "markdown",
   "id": "a32de330",
   "metadata": {
    "id": "a32de330"
   },
   "source": [
    "### Exemplo **INNER JOIN**"
   ]
  },
  {
   "cell_type": "code",
   "execution_count": null,
   "id": "828d2c7f",
   "metadata": {
    "id": "828d2c7f"
   },
   "outputs": [],
   "source": [
    "#Traz somente o que se corresponde nas 2 tabelas\n",
    "\n",
    "SELECT\n",
    "    Orders.Id AS ID_Pedido,\n",
    "    Users.Name AS Cliente,\n",
    "    Products.Title AS Produto,\n",
    "    Orders.Total\n",
    "FROM Orders\n",
    "\n",
    "INNER JOIN Users ON Orders.User_ID = Users.Id\n",
    "#Conecta a tabela de Pedidos com a de Usuários, através da chava User_ID\n",
    "\n",
    "INNER JOIN Products ON Orders.Product_ID = Products.Id;\n",
    "#Conecta a tabela de Pedidos com a de Produtos, através da chava Products_ID"
   ]
  },
  {
   "cell_type": "markdown",
   "id": "002e83bf",
   "metadata": {
    "id": "002e83bf"
   },
   "source": [
    "### Exemplo **FULL OUTER JOIN**"
   ]
  },
  {
   "cell_type": "code",
   "execution_count": null,
   "id": "d0d2a4c0",
   "metadata": {
    "id": "d0d2a4c0"
   },
   "outputs": [],
   "source": [
    "#Traz tudo das 2 tabelas, mesmo que não hajam correspondencias\n",
    "\n",
    "SELECT * FROM Users\n",
    "FULL JOIN Orders ON Users.Id = Orders.User_ID\n"
   ]
  },
  {
   "cell_type": "markdown",
   "id": "3DlI5y1LZ7IV",
   "metadata": {
    "id": "3DlI5y1LZ7IV"
   },
   "source": [
    "### Exemplo **CROSS JOIN**"
   ]
  },
  {
   "cell_type": "code",
   "execution_count": null,
   "id": "5-Uk6Ga0ZlYs",
   "metadata": {
    "id": "5-Uk6Ga0ZlYs"
   },
   "outputs": [],
   "source": [
    "#Repete todas as linhas da Tabela 1 para cada linha da tabela 2\n",
    "\n",
    "SELECT * FROM Users\n",
    "CROSS JOIN Orders"
   ]
  },
  {
   "cell_type": "markdown",
   "id": "JaovpmT1aT6l",
   "metadata": {
    "id": "JaovpmT1aT6l"
   },
   "source": [
    "### Aplicando agregadores:"
   ]
  },
  {
   "cell_type": "code",
   "execution_count": null,
   "id": "MkE4YTZLaTWF",
   "metadata": {
    "id": "MkE4YTZLaTWF"
   },
   "outputs": [],
   "source": [
    "    SELECT\n",
    "        COUNT(DISTINCT Products.ID) AS Contagem_DistID,\n",
    "        Category\n",
    "    FROM Reviews\n",
    "    LEFT JOIN Products ON Reviews.Product_ID = Products.ID\n",
    "    WHERE Category is NOT null\n",
    "    GROUP BY Category\n",
    "    ORDER BY Contagem_DistID desc\n"
   ]
  },
  {
   "cell_type": "markdown",
   "id": "W99FN8R1ahaV",
   "metadata": {
    "id": "W99FN8R1ahaV"
   },
   "source": [
    "###**Joins subsequentes - Linkando multiplas tabelas:**"
   ]
  },
  {
   "cell_type": "code",
   "execution_count": null,
   "id": "UpV58mPdb6CN",
   "metadata": {
    "id": "UpV58mPdb6CN"
   },
   "outputs": [],
   "source": [
    " SELECT select_expression FROM table_1\n",
    "    JOIN table_2 ON table_1.key = table_2.key\n",
    "    JOIN table_3 ON table_2.key = table_3.key\n",
    "    JOIN table_4 ON table_3.key = table_4.key"
   ]
  },
  {
   "cell_type": "markdown",
   "id": "eryIEyc9b_fN",
   "metadata": {
    "id": "eryIEyc9b_fN"
   },
   "source": [
    "### Exemplo Prático - **Cálculo da Média de Rating por estado:**"
   ]
  },
  {
   "cell_type": "code",
   "execution_count": null,
   "id": "04qlSF6ScAAW",
   "metadata": {
    "id": "04qlSF6ScAAW"
   },
   "outputs": [],
   "source": [
    "    SELECT\n",
    "        State,\n",
    "        AVG(Rating) AS Media\n",
    "    FROM Orders #Tabela contendo AS informações de Produtos e User ID\n",
    "\n",
    "    LEFT JOIN Products ON Orders.Product_Id = Products.ID (Products contém AS info de Rating - Avaliação)\n",
    "    LEFT JOIN People ON Orders.User_ID = People.ID (People contém AS info de State - Estado)\n",
    "\n",
    "    GROUP BY State\n",
    "    ORDER BY Media desc"
   ]
  },
  {
   "cell_type": "markdown",
   "id": "ETvgUjVVcZGn",
   "metadata": {
    "id": "ETvgUjVVcZGn"
   },
   "source": [
    "O ideal é ter uma linha principal de análise e, a partir dela, conectar as informações que precisamos"
   ]
  },
  {
   "cell_type": "markdown",
   "id": "c5f9ff09",
   "metadata": {
    "id": "c5f9ff09"
   },
   "source": [
    "## **Filtragem com WHERE**"
   ]
  },
  {
   "cell_type": "markdown",
   "id": "8cVjS00MAuG0",
   "metadata": {
    "id": "8cVjS00MAuG0"
   },
   "source": [
    "Antes dos Filtros, o SQL não entederá as colunas renomeadas, de modo que pode dar erro ao chama-las. Devemos utilizar o nome original."
   ]
  },
  {
   "cell_type": "markdown",
   "id": "44a8b157",
   "metadata": {
    "id": "44a8b157"
   },
   "source": [
    "### **Aplicação prática do WHERE**"
   ]
  },
  {
   "cell_type": "code",
   "execution_count": null,
   "id": "e5313817",
   "metadata": {
    "id": "e5313817"
   },
   "outputs": [],
   "source": [
    "SELECT *\n",
    "FROM Users\n",
    "WHERE Created_At > '2022-01-01';\n",
    "\n",
    "SELECT *\n",
    "FROM Products\n",
    "WHERE Category = 'electronics';\n",
    "\n",
    "SELECT *\n",
    "FROM Orders\n",
    "WHERE Total > 100 AND Discount > 0;\n",
    "\n",
    "WHERE category = \"Gizmo\"\n",
    "#Texto precisa ser exatamente igual\n",
    "\n",
    "#A coluna não precisa estar visivel na extração para que seja feito o filtro"
   ]
  },
  {
   "cell_type": "markdown",
   "id": "H2hw_u8q2_UA",
   "metadata": {
    "id": "H2hw_u8q2_UA"
   },
   "source": [
    "### **Aplicando o BETWEEN (Entre)**"
   ]
  },
  {
   "cell_type": "code",
   "execution_count": null,
   "id": "eu7-TOJx3Ol-",
   "metadata": {
    "id": "eu7-TOJx3Ol-"
   },
   "outputs": [],
   "source": [
    "WHERE Month(Dia_Pedido) BETWEEN 1 and 2\n",
    "\n",
    "WHERE ID >= 4 and ID BETWEEN \"10\" and \"20\"\n",
    "\n",
    "WHERE ID = 4 or ID BETWEEN 1 and 20\n",
    "\n",
    "WHERE rating != 4 and ID BETWEEN 1 and 20 and Created_At BETWEEN \"2019-02-7\" and \"2019-04-12\"\n",
    "#Aplicando o termo mais de uma vez"
   ]
  },
  {
   "cell_type": "markdown",
   "id": "DADFI6c05lUH",
   "metadata": {
    "id": "DADFI6c05lUH"
   },
   "source": [
    "### **Principais Operadores Lógicos e Comparativos**\n"
   ]
  },
  {
   "cell_type": "markdown",
   "id": "jku-bvFT6SVv",
   "metadata": {
    "id": "jku-bvFT6SVv"
   },
   "source": [
    "\n",
    "Podemos aplicar o E ou OU:\n",
    "* and / or - \"E\" e \"OU\"\n",
    "* in() - Nas determinadas condições\n",
    "* Not - Negação, o Contrário\n",
    "\n",
    "Podemos aplicar a negação:\n",
    "* Not In()\n",
    "* Not Like\n",
    "\n",
    "Principais Operadores de Comparação:\n",
    "* \"=\" (igual)\n",
    "* \"!=\" ou \"<>\" (diferente)\n",
    "* \">\" (maior) ou \"<\" (menor)\n",
    "* \">=\" (maior ou igual) ou \"<=\" (menor ou igual)\n",
    "\n",
    "Mais operadores podem ser encontrados [aqui](https://dev.mysql.com/doc/refman/8.4/en/non-typed-operators.html)\n"
   ]
  },
  {
   "cell_type": "markdown",
   "id": "LiOFRT-j9sUi",
   "metadata": {
    "id": "LiOFRT-j9sUi"
   },
   "source": [
    "\n",
    "### **Parentesis nos filtros (hierarquia de ação)**"
   ]
  },
  {
   "cell_type": "markdown",
   "id": "tw9Ps7W79rfL",
   "metadata": {
    "id": "tw9Ps7W79rfL"
   },
   "source": [
    "Sem os parênteses, o SQL pode interpretar as condições de forma diferente do que você espera, pois a precedência padrão é:\n",
    "\n",
    "* AND é avaliado antes de OR."
   ]
  },
  {
   "cell_type": "markdown",
   "id": "WO-orGhs-MPS",
   "metadata": {
    "id": "WO-orGhs-MPS"
   },
   "source": [
    "Exemplo com **Parentesis**:"
   ]
  },
  {
   "cell_type": "code",
   "execution_count": null,
   "id": "5cf95d9f",
   "metadata": {
    "id": "5cf95d9f"
   },
   "outputs": [],
   "source": [
    "SELECT *\n",
    "FROM Products\n",
    "WHERE Category = 'electronics'\n",
    "  AND (Price < 100 OR Rating > 4.5);\n",
    "\n",
    "#Seleciona produtos da categoria \"electronics\" e que tenham o preço menor que 100 ou avaliação maior que 4.5.\n",
    "    #Category = 'electronics' E (Price < 100 OU Rating > 4.5)"
   ]
  },
  {
   "cell_type": "markdown",
   "id": "iNgbhaXc-k_i",
   "metadata": {
    "id": "iNgbhaXc-k_i"
   },
   "source": [
    "Exemplo sem **Parentesis**:"
   ]
  },
  {
   "cell_type": "code",
   "execution_count": null,
   "id": "13n_dcYQ-lYr",
   "metadata": {
    "id": "13n_dcYQ-lYr"
   },
   "outputs": [],
   "source": [
    "SELECT *\n",
    "FROM Products\n",
    "WHERE Category = 'electronics'\n",
    "  AND Price < 100 OR Rating > 4.5;\n",
    "\n",
    "#Interpretação do SQL: (Category = 'electronics' E Price < 100) OU Rating > 4.5\n",
    "    #Ou seja, o SQL pode retornar produtos de qualquer categoria com avaliação alta, mesmo que não sejam eletrônicos."
   ]
  },
  {
   "cell_type": "markdown",
   "id": "P8VwJ70e-ZPy",
   "metadata": {
    "id": "P8VwJ70e-ZPy"
   },
   "source": [
    "Outro exemplo mais prático:"
   ]
  },
  {
   "cell_type": "code",
   "execution_count": null,
   "id": "D93tAyWq-KCi",
   "metadata": {
    "id": "D93tAyWq-KCi"
   },
   "outputs": [],
   "source": [
    "SELECT *\n",
    "FROM Orders\n",
    "WHERE (Status = 'Pago' OR Status = 'Enviado')\n",
    "  AND Total > 500;\n",
    "\n",
    "#Seleciona pedidos que já foram pagos ou enviados, e que tenham um valor total acima de 500"
   ]
  },
  {
   "cell_type": "markdown",
   "id": "36a6e27a",
   "metadata": {
    "id": "36a6e27a"
   },
   "source": [
    "### **Cláusula LIKE (Similaridade)**"
   ]
  },
  {
   "cell_type": "code",
   "execution_count": null,
   "id": "001dac8b",
   "metadata": {
    "id": "001dac8b"
   },
   "outputs": [],
   "source": [
    "SELECT *\n",
    "FROM Products\n",
    "WHERE Title LIKE '%phone%';"
   ]
  },
  {
   "cell_type": "markdown",
   "id": "hxsHrIj7_qMc",
   "metadata": {
    "id": "hxsHrIj7_qMc"
   },
   "source": [
    "Combinando com o \"%\" entre as palavras podemos ser mais específicos, por ex:"
   ]
  },
  {
   "cell_type": "code",
   "execution_count": null,
   "id": "aFwnPwQp_ueT",
   "metadata": {
    "id": "aFwnPwQp_ueT"
   },
   "outputs": [],
   "source": [
    "SELECT *\n",
    "FROM Products\n",
    "WHERE Category NOT IN (\"Gizmo\", \"Widget\")\n",
    "\n",
    "AND title LIKE \"Plastic%\"\n",
    "#Que contenha a palvra Plastic no começo\n",
    "\n",
    "AND title LIKE \"%Plastic%\"\n",
    "#Que contenha a palvra Plastic no meio\n",
    "\n",
    "AND title LIKE \"%Plastic\"\n",
    "#Que contenha a palvra Plastic no fim\n",
    "\n",
    "AND title LIKE \"%Plastic%Watch\" -\n",
    "#Combinando palavras"
   ]
  },
  {
   "cell_type": "markdown",
   "id": "sZZakctdCoRG",
   "metadata": {
    "id": "sZZakctdCoRG"
   },
   "source": [
    "### **WHERE em Agregações**"
   ]
  },
  {
   "cell_type": "markdown",
   "id": "peBf-3a1G9ni",
   "metadata": {
    "id": "peBf-3a1G9ni"
   },
   "source": [
    "Quando precisamos filtrar uma base com valores agregados (como SUM, AVG, COUNT), é necessário usar o WHERE através de uma CTE, Subquery ou uma cláusula HAVING.\n",
    "\n"
   ]
  },
  {
   "cell_type": "markdown",
   "id": "fkLGn9rYHzW7",
   "metadata": {
    "id": "fkLGn9rYHzW7"
   },
   "source": [
    " Exemplo onde o WHERE **não funciona** com agregação:"
   ]
  },
  {
   "cell_type": "code",
   "execution_count": null,
   "id": "b3iwUM-xHz0j",
   "metadata": {
    "id": "b3iwUM-xHz0j"
   },
   "outputs": [],
   "source": [
    "#Isto dá erro ou comportamento incorreto\n",
    "\n",
    "SELECT User_ID, SUM(Total) AS Total_Compras\n",
    "FROM Orders\n",
    "WHERE SUM(Total) > 500 #Não é permitido usar funções agregadas no WHERE\n",
    "GROUP BY User_ID;"
   ]
  },
  {
   "cell_type": "markdown",
   "id": "vAKU1ZPsIkBT",
   "metadata": {
    "id": "vAKU1ZPsIkBT"
   },
   "source": [
    "Aplicando **CTE** (quando queremos usar os resultados intermediários)"
   ]
  },
  {
   "cell_type": "code",
   "execution_count": null,
   "id": "IywljY6kIj0E",
   "metadata": {
    "id": "IywljY6kIj0E"
   },
   "outputs": [],
   "source": [
    "WITH ComprasPorCliente AS\n",
    " (SELECT User_ID, SUM(Total) AS Total_Compras\n",
    "  FROM Orders\n",
    "  GROUP BY User_ID)\n",
    "\n",
    "SELECT *\n",
    "FROM ComprasPorCliente\n",
    "WHERE Total_Compras > 500;"
   ]
  },
  {
   "cell_type": "markdown",
   "id": "apAl_UiCIzcj",
   "metadata": {
    "id": "apAl_UiCIzcj"
   },
   "source": [
    "Aplicando em **Subquery**:"
   ]
  },
  {
   "cell_type": "code",
   "execution_count": null,
   "id": "jv5uk3xnI0Ic",
   "metadata": {
    "id": "jv5uk3xnI0Ic"
   },
   "outputs": [],
   "source": [
    "SELECT *\n",
    "FROM (\n",
    "    SELECT User_ID, SUM(Total) AS Total_Compras\n",
    "    FROM Orders\n",
    "    GROUP BY User_ID\n",
    ") AS Compras\n",
    "WHERE Total_Compras > 500;"
   ]
  },
  {
   "cell_type": "markdown",
   "id": "7Nq2HFL8H0TD",
   "metadata": {
    "id": "7Nq2HFL8H0TD"
   },
   "source": [
    "Aplicando o **HAVING** (quando há agregações):"
   ]
  },
  {
   "cell_type": "code",
   "execution_count": null,
   "id": "KkgNf3oGH0ez",
   "metadata": {
    "id": "KkgNf3oGH0ez"
   },
   "outputs": [],
   "source": [
    "SELECT User_ID, SUM(Total) AS Total_Compras\n",
    "FROM Orders\n",
    "GROUP BY User_ID\n",
    "HAVING SUM(Total) > 500;"
   ]
  },
  {
   "cell_type": "markdown",
   "id": "BnjT5bYQMdkW",
   "metadata": {
    "id": "BnjT5bYQMdkW"
   },
   "source": [
    "## Agregações"
   ]
  },
  {
   "cell_type": "markdown",
   "id": "29ee3af0",
   "metadata": {
    "id": "29ee3af0"
   },
   "source": [
    "### **Funções Agregadas**"
   ]
  },
  {
   "cell_type": "code",
   "execution_count": null,
   "id": "70eaa67e",
   "metadata": {
    "id": "70eaa67e"
   },
   "outputs": [],
   "source": [
    "SELECT COUNT(*) FROM Users;\n",
    "SELECT COUNT(*) FROM Orders WHERE Discount > 0;\n",
    "\n",
    "SELECT MAX(Price) FROM Products;\n",
    "SELECT MIN(Price) FROM Products;\n",
    "\n",
    "SELECT AVG(Rating) FROM Products;\n",
    "SELECT SUM(Total) FROM Orders;\n",
    "\n",
    "SELECT\n",
    "   Category AS Categoria,\n",
    "   COUNT(*) AS \"Qtdade de Produtos\"\n",
    "FROM Products\n",
    "   GROUP BY Category\n",
    "   ORDER BY \"Qtdade de Produtos\""
   ]
  },
  {
   "cell_type": "markdown",
   "id": "4SrE9Cofd_qG",
   "metadata": {
    "id": "4SrE9Cofd_qG"
   },
   "source": [
    "Importante trazer a coluna que se deseja fazer a agregação na etapa de EXECUÇÃO para que apareça o resumo"
   ]
  },
  {
   "cell_type": "markdown",
   "id": "7w3pIv1LeEqt",
   "metadata": {
    "id": "7w3pIv1LeEqt"
   },
   "source": [
    "É possível fazer multiplas agregações, como por ex:"
   ]
  },
  {
   "cell_type": "code",
   "execution_count": null,
   "id": "o-gLgL9ueGLv",
   "metadata": {
    "id": "o-gLgL9ueGLv"
   },
   "outputs": [],
   "source": [
    "    SELECT\n",
    "        State,\n",
    "        Source,\n",
    "        COUNT(*) AS Qtde\n",
    "    FROM People\n",
    "    WHERE ID <= 100\n",
    "    GROUP BY State, source\n",
    "    ORDER BY State, source"
   ]
  },
  {
   "cell_type": "markdown",
   "id": "d2091327",
   "metadata": {
    "id": "d2091327"
   },
   "source": [
    "### **Group by**"
   ]
  },
  {
   "cell_type": "code",
   "execution_count": null,
   "id": "b09a9465",
   "metadata": {
    "id": "b09a9465"
   },
   "outputs": [],
   "source": [
    "SELECT Category, COUNT(*) AS Qtd_Produtos\n",
    "FROM Products\n",
    "GROUP BY Category;\n",
    "\n",
    "SELECT User_ID, SUM(Total) AS Total_Compras\n",
    "FROM Orders\n",
    "GROUP BY User_ID;"
   ]
  },
  {
   "cell_type": "markdown",
   "id": "3Uft3BptfADP",
   "metadata": {
    "id": "3Uft3BptfADP"
   },
   "source": [
    "As principais funções de agregação são:\n",
    "   * AVG(): Retorna a média dos valores.\n",
    "   * SUM(): Retorna a soma dos valores.\n",
    "   * MAX(): Retorna o maior valor.\n",
    "   * MIN(): Retorna o menor valor.\n",
    "   * COUNT(): Retorna a quantidade de linhas.\n",
    "   * COUNT(DISTINCT): Retorna a quantidade de valores distintos.\n",
    "   * STD(): Retorna o desvio padrão dos valores.\n",
    "\n",
    "As demais podem ser vistas [aqui](https://dev.mysql.com/doc/refman/8.4/en/aggregate-functions.html)"
   ]
  },
  {
   "cell_type": "markdown",
   "id": "Jk03Jk60fUHP",
   "metadata": {
    "id": "Jk03Jk60fUHP"
   },
   "source": [
    "### **Podemos fazer diversas agregações de uma só vez, por ex:**"
   ]
  },
  {
   "cell_type": "code",
   "execution_count": null,
   "id": "sWborrj3fG7n",
   "metadata": {
    "id": "sWborrj3fG7n"
   },
   "outputs": [],
   "source": [
    "    SELECT\n",
    "        Category AS Categoria,\n",
    "        MIN (Rating) AS Nota_Min,\n",
    "        MAX (Rating) AS Nota_Max,\n",
    "        AVG (Rating) AS Nota_Med,\n",
    "        stddev(Rating) AS Desv_Pad\n",
    "    FROM Products\n",
    "    GROUP BY Categoria\n",
    "    ORDER BY Nota_Max"
   ]
  },
  {
   "cell_type": "markdown",
   "id": "Z2ncixIKfkDg",
   "metadata": {
    "id": "Z2ncixIKfkDg"
   },
   "source": [
    "### **Distinct:**"
   ]
  },
  {
   "cell_type": "code",
   "execution_count": null,
   "id": "VjaYH-xOfkZH",
   "metadata": {
    "id": "VjaYH-xOfkZH"
   },
   "outputs": [],
   "source": [
    "    SELECT\n",
    "        DISTINCT State,\n",
    "        Source\n",
    "    FROM People\n",
    "    ORDER BY State\n",
    "    #Seleciona somente os valores distintos das colunas citadas"
   ]
  },
  {
   "cell_type": "code",
   "execution_count": null,
   "id": "86891c43",
   "metadata": {
    "id": "86891c43"
   },
   "outputs": [],
   "source": [
    "SELECT DISTINCT Category\n",
    "FROM Products;"
   ]
  },
  {
   "cell_type": "markdown",
   "id": "nh_yHG1Gf3kW",
   "metadata": {
    "id": "nh_yHG1Gf3kW"
   },
   "source": [
    "É possível aplicar os agregadores e turbinar a conta, trazendo os resultados distintos de uma coluna.\n",
    "Dependendo da fonte, pode não ser possível aplicar o Distinct em mais de uma coluna"
   ]
  },
  {
   "cell_type": "markdown",
   "id": "2df90e8c",
   "metadata": {
    "id": "2df90e8c"
   },
   "source": [
    "### **HAVING (Filtra após o agrupamento)**"
   ]
  },
  {
   "cell_type": "code",
   "execution_count": null,
   "id": "7d254f3e",
   "metadata": {
    "id": "7d254f3e"
   },
   "outputs": [],
   "source": [
    "SELECT User_ID, SUM(Total) AS Total_Compras\n",
    "FROM Orders\n",
    "GROUP BY User_ID\n",
    "HAVING Total_Compras > 500;\n",
    "\n",
    "#Conforme citado anteriormente, o WHERE pode não funcionar em determinadas ocasiões"
   ]
  },
  {
   "cell_type": "markdown",
   "id": "150db28a",
   "metadata": {
    "id": "150db28a"
   },
   "source": [
    "\n",
    "## **Ordenação com ORDER BY**"
   ]
  },
  {
   "cell_type": "code",
   "execution_count": null,
   "id": "9d209818",
   "metadata": {
    "collapsed": true,
    "id": "9d209818"
   },
   "outputs": [],
   "source": [
    "SELECT *\n",
    "FROM Products\n",
    "ORDER BY Rating DESC;"
   ]
  },
  {
   "cell_type": "markdown",
   "id": "fWYpwbgvgWw_",
   "metadata": {
    "id": "fWYpwbgvgWw_"
   },
   "source": [
    "Order by Created_At asc (asc - ascending, desc - descending)\n",
    "\n",
    "Para ordenar, podemos inserir o nome atual da coluna ou o nome antigo mesmo\n"
   ]
  },
  {
   "cell_type": "markdown",
   "id": "052cb378",
   "metadata": {
    "id": "052cb378"
   },
   "source": [
    "### **ORDER BY com GROUP BY**"
   ]
  },
  {
   "cell_type": "code",
   "execution_count": null,
   "id": "b0bfe885",
   "metadata": {
    "id": "b0bfe885"
   },
   "outputs": [],
   "source": [
    "SELECT User_ID, COUNT(*) AS Qtd_Pedidos\n",
    "FROM Orders\n",
    "GROUP BY User_ID\n",
    "ORDER BY Qtd_Pedidos DESC;"
   ]
  },
  {
   "cell_type": "markdown",
   "id": "2f425606",
   "metadata": {
    "id": "2f425606"
   },
   "source": [
    "## **Limite de Resultados com LIMIT**"
   ]
  },
  {
   "cell_type": "code",
   "execution_count": null,
   "id": "739ef905",
   "metadata": {
    "id": "739ef905"
   },
   "outputs": [],
   "source": [
    "SELECT *\n",
    "FROM Products\n",
    "ORDER BY Rating DESC\n",
    "LIMIT 5;"
   ]
  },
  {
   "cell_type": "markdown",
   "id": "7qqLjdBKggNm",
   "metadata": {
    "id": "7qqLjdBKggNm"
   },
   "source": [
    "Limita o número de linhas do material\n"
   ]
  },
  {
   "cell_type": "markdown",
   "id": "u4XeyHlDhu7-",
   "metadata": {
    "id": "u4XeyHlDhu7-"
   },
   "source": [
    "## **Declarando Variáveis - Exemplos de Filtros**"
   ]
  },
  {
   "cell_type": "code",
   "execution_count": null,
   "id": "8SogmnKEh5DX",
   "metadata": {
    "id": "8SogmnKEh5DX"
   },
   "outputs": [],
   "source": [
    "{{Input_Variavel}} #Abre um campo onde o usuário pode inserir a variável que ele deseja"
   ]
  },
  {
   "cell_type": "markdown",
   "id": "g7HVC24vh_WX",
   "metadata": {
    "id": "g7HVC24vh_WX"
   },
   "source": [
    "Pode ser extremamente útil se usarmos com o parametro de filtro (WHERE):"
   ]
  },
  {
   "cell_type": "code",
   "execution_count": null,
   "id": "tAel9St5iCsO",
   "metadata": {
    "id": "tAel9St5iCsO"
   },
   "outputs": [],
   "source": [
    "    SELECT\n",
    "        *\n",
    "    FROM Products\n",
    "    WHERE\n",
    "        ID = {{input_ID}}\n",
    "    [[ OR Price >= {{Input_Preco}}\n",
    "     OR lower(Category) = lower({{Input_Categoria}}) #é possível moldar o texto do input (SQL exige Texto Exato)\n",
    "     OR Created_At >= {{Input_Data}}\n",
    "     OR Created_At BETWEEN {{data_ini}} AND {{data_fim}} ]]"
   ]
  },
  {
   "cell_type": "markdown",
   "id": "S-IF6cc_iMCm",
   "metadata": {
    "id": "S-IF6cc_iMCm"
   },
   "source": [
    "[[]] - Colchetes delimitam se o filtro será obrigatório ou não"
   ]
  },
  {
   "cell_type": "code",
   "execution_count": null,
   "id": "_R4XXXH2iR8v",
   "metadata": {
    "id": "_R4XXXH2iR8v"
   },
   "outputs": [],
   "source": [
    "#Filtro único\n",
    "    [[where ID = {{input_ID}}]]\n",
    "\n",
    "#Filtro multiplo\n",
    "      where ID = {{input_ID}}          - obrigatório\n",
    "    [[ and Price >= {{input_Preço}}]]  - não obrigatório"
   ]
  },
  {
   "cell_type": "markdown",
   "id": "lbdk8cv-iflX",
   "metadata": {
    "id": "lbdk8cv-iflX"
   },
   "source": [
    "Criando uma caixinha de seleção de valores:"
   ]
  },
  {
   "cell_type": "code",
   "execution_count": null,
   "id": "t97ir6VCigCP",
   "metadata": {
    "id": "t97ir6VCigCP"
   },
   "outputs": [],
   "source": [
    "    SELECT\n",
    "        *\n",
    "    FROM Products\n",
    "    WHERE true - ao inserir essa chave, todos os filtros serão opcionais. Ao não inserir nada, trará a tabela completa.\n",
    "    [[AND {{input_id}}]]\n",
    "    [[AND {{input_Categoria}}]]\n",
    "    [[AND {{input_Data}}]]\n",
    "    [[AND {{input_Preco}}]]"
   ]
  },
  {
   "cell_type": "markdown",
   "id": "IyAE6DOSi9ff",
   "metadata": {
    "id": "IyAE6DOSi9ff"
   },
   "source": [
    " Disclaimer Importante:\n",
    "\n",
    " A maioria dos interpretadores SQL puros (como SQLite, PostgreSQL, MySQL, etc.) não permite declarar ou usar variáveis diretamente em queries simples.\n",
    "O uso de variáveis depende do ambiente ou da extensão da linguagem SQL usada, podendo variar bastante a sua delimitação entre eles."
   ]
  },
  {
   "cell_type": "markdown",
   "id": "c5a20976",
   "metadata": {
    "id": "c5a20976"
   },
   "source": [
    "## **Subqueries (Consultas Aninhadas)**"
   ]
  },
  {
   "cell_type": "code",
   "execution_count": null,
   "id": "69800046",
   "metadata": {
    "id": "69800046"
   },
   "outputs": [],
   "source": [
    "SELECT *\n",
    "FROM Orders\n",
    "WHERE Total > (\n",
    "    SELECT AVG(Total)\n",
    "    FROM Orders\n",
    ");\n",
    "\n",
    "SELECT Name\n",
    "FROM Users\n",
    "WHERE Id IN (\n",
    "    SELECT User_ID\n",
    "    FROM Orders\n",
    "    WHERE Discount > 0\n",
    ");"
   ]
  },
  {
   "cell_type": "markdown",
   "id": "bd1a9f1c",
   "metadata": {
    "id": "bd1a9f1c"
   },
   "source": [
    "## **CTE - Common Table Expression**"
   ]
  },
  {
   "cell_type": "markdown",
   "id": "BFFxYShgjhV-",
   "metadata": {
    "id": "BFFxYShgjhV-"
   },
   "source": [
    "Este conceito permite a criação de tabelas virtuais para facilitar as consultas, dentro de tabelas específicas."
   ]
  },
  {
   "cell_type": "code",
   "execution_count": null,
   "id": "fc324dd6",
   "metadata": {
    "id": "fc324dd6"
   },
   "outputs": [],
   "source": [
    "WITH PedidosPorCliente AS (\n",
    "    SELECT User_ID, SUM(Total) AS Total_Compras\n",
    "    FROM Orders\n",
    "    GROUP BY User_ID\n",
    ")\n",
    "SELECT\n",
    "    Users.Name AS Cliente,\n",
    "    PedidosPorCliente.Total_Compras\n",
    "FROM PedidosPorCliente\n",
    "INNER JOIN Users ON PedidosPorCliente.User_ID = Users.Id\n",
    "WHERE PedidosPorCliente.Total_Compras > 500;"
   ]
  },
  {
   "cell_type": "markdown",
   "id": "TjIUOBn8jloX",
   "metadata": {
    "id": "TjIUOBn8jloX"
   },
   "source": [
    "Selecionando todos os pedidos de 2023"
   ]
  },
  {
   "cell_type": "code",
   "execution_count": null,
   "id": "FhuvR-KTjn9G",
   "metadata": {
    "id": "FhuvR-KTjn9G"
   },
   "outputs": [],
   "source": [
    "WITH Pedidos2023 AS (\n",
    "    SELECT\n",
    "        Id, USER_ID, PRODUCT_ID, SUBTOTAL, cast(CREATED_AT AS DATE) AS Dia\n",
    "    FROM ORDERS\n",
    "    WHERE\n",
    "        year(CREATED_AT) = 2023\n",
    "    ORDER BY Dia\n",
    ")\n",
    "\n",
    "SELECT * FROM Pedidos2023\n",
    "WHERE month(Dia) = 1"
   ]
  },
  {
   "cell_type": "markdown",
   "id": "SuFXPY88jvE_",
   "metadata": {
    "id": "SuFXPY88jvE_"
   },
   "source": [
    "### **DETALHE IMPORTANTE !!!**\n",
    "\n",
    "No MySQL, uma CTE criada com WITH precisa ser seguida por uma consulta principal que a utilize imediatamente;\n",
    "do contrário, ele não processa a tabela virtual e gera erro."
   ]
  },
  {
   "cell_type": "markdown",
   "id": "jkVotSTUkHAn",
   "metadata": {
    "id": "jkVotSTUkHAn"
   },
   "source": [
    "Conforme haviamos citado anteriormente, a CTE permite que façamos filtros mais específicos onde antes não podiamos aplicar o WHERE"
   ]
  },
  {
   "cell_type": "code",
   "execution_count": null,
   "id": "DGvQgoN9kEoH",
   "metadata": {
    "id": "DGvQgoN9kEoH"
   },
   "outputs": [],
   "source": [
    "WITH FaturamentoDia2023 AS\n",
    "(\n",
    "    SELECT\n",
    "        SUM(SUBTOTAL) AS Faturamento,\n",
    "        cast(CREATED_AT AS DATE) AS Dia\n",
    "    FROM ORDERS\n",
    "    WHERE\n",
    "        year(CREATED_AT) = 2023\n",
    "        GROUP BY dia\n",
    "    ORDER BY dia\n",
    ")\n",
    "\n",
    "SELECT * FROM FaturamentoDia2023\n",
    "WHERE Faturamento >= 1000"
   ]
  },
  {
   "cell_type": "markdown",
   "id": "HDQ-WMJwkTLP",
   "metadata": {
    "id": "HDQ-WMJwkTLP"
   },
   "source": [
    "Na query acima, não seria possível filtrar o Faturamento sem a tabela virtual, por ser uma coluna agregada daria ERRO."
   ]
  },
  {
   "cell_type": "markdown",
   "id": "L8r99Z11kd1z",
   "metadata": {
    "id": "L8r99Z11kd1z"
   },
   "source": [
    "CTE são visões temporárias, para mantermos as consultas viáveis por mais tempo, temos algumas alternativas:"
   ]
  },
  {
   "cell_type": "markdown",
   "id": "TRd-bmxGksF3",
   "metadata": {
    "id": "TRd-bmxGksF3"
   },
   "source": [
    "### **VIEWS**"
   ]
  },
  {
   "cell_type": "markdown",
   "id": "q1GzZnRCk0HX",
   "metadata": {
    "id": "q1GzZnRCk0HX"
   },
   "source": [
    "Uma view é uma tabela virtual salva no banco de dados e pode ser reutilizada em várias consultas.\n",
    "É como uma CTE, mas ela permanece disponível até que seja explicitamente deletada. Ex:"
   ]
  },
  {
   "cell_type": "code",
   "execution_count": null,
   "id": "6t4JvKWbk7Aq",
   "metadata": {
    "id": "6t4JvKWbk7Aq"
   },
   "outputs": [],
   "source": [
    "    CREATE VIEW Pedidos2023 AS\n",
    "    SELECT Id, USER_ID, PRODUCT_ID, SUBTOTAL, CAST(CREATED_AT AS DATE) AS Dia\n",
    "    FROM ORDERS\n",
    "    WHERE YEAR(CREATED_AT) = 2023;\n"
   ]
  },
  {
   "cell_type": "markdown",
   "id": "Mm3eF5bok-0u",
   "metadata": {
    "id": "Mm3eF5bok-0u"
   },
   "source": [
    "### **TEMPORARY TABLES**"
   ]
  },
  {
   "cell_type": "markdown",
   "id": "emprQ3sdlBCO",
   "metadata": {
    "id": "emprQ3sdlBCO"
   },
   "source": [
    "Elas existem apenas durante a sessão atual do banco de dados e são excluídas automaticamente quando a sessão termina.\n",
    "Ex:"
   ]
  },
  {
   "cell_type": "code",
   "execution_count": null,
   "id": "j1uEQLnKlFVv",
   "metadata": {
    "id": "j1uEQLnKlFVv"
   },
   "outputs": [],
   "source": [
    "    CREATE TEMPORARY TABLE Pedidos2023 AS\n",
    "    SELECT Id, USER_ID, PRODUCT_ID, SUBTOTAL, CAST(CREATED_AT AS DATE) AS Dia\n",
    "    FROM ORDERS\n",
    "    WHERE YEAR(CREATED_AT) = 2023;\n"
   ]
  },
  {
   "cell_type": "markdown",
   "id": "vfaELu0UlQBO",
   "metadata": {
    "id": "vfaELu0UlQBO"
   },
   "source": [
    "### **NOVA TABELA**"
   ]
  },
  {
   "cell_type": "markdown",
   "id": "51AgryDwk7-_",
   "metadata": {
    "id": "51AgryDwk7-_"
   },
   "source": [
    "Ou até mesmo criar uma nova tabela, caso seja necessário preservar as informações por mais tempo:"
   ]
  },
  {
   "cell_type": "code",
   "execution_count": null,
   "id": "ANxtx3v3lWQ2",
   "metadata": {
    "id": "ANxtx3v3lWQ2"
   },
   "outputs": [],
   "source": [
    "    CREATE TABLE Pedidos2023 AS\n",
    "    SELECT Id, USER_ID, PRODUCT_ID, SUBTOTAL, CAST(CREATED_AT AS DATE) AS Dia\n",
    "    FROM ORDERS\n",
    "    WHERE YEAR(CREATED_AT) = 2023;"
   ]
  },
  {
   "cell_type": "markdown",
   "id": "GHQRlv85lnhH",
   "metadata": {
    "id": "GHQRlv85lnhH"
   },
   "source": [
    "## Neste contexto também podemos fazer:"
   ]
  },
  {
   "cell_type": "markdown",
   "id": "f7c271fc",
   "metadata": {
    "id": "f7c271fc"
   },
   "source": [
    "### **Inserção de Dados**"
   ]
  },
  {
   "cell_type": "code",
   "execution_count": null,
   "id": "d610806c",
   "metadata": {
    "id": "d610806c"
   },
   "outputs": [],
   "source": [
    "INSERT INTO Vendas (Produto, Quantidade, Valor, Data)\n",
    "VALUES ('Mouse', 10, 25.5, '2023-06-01');"
   ]
  },
  {
   "cell_type": "markdown",
   "id": "1f434126",
   "metadata": {
    "id": "1f434126"
   },
   "source": [
    "### **Atualização de Registros**"
   ]
  },
  {
   "cell_type": "code",
   "execution_count": null,
   "id": "268accb0",
   "metadata": {
    "id": "268accb0"
   },
   "outputs": [],
   "source": [
    "UPDATE Vendas\n",
    "SET Valor = 30\n",
    "WHERE Produto = 'Mouse';"
   ]
  },
  {
   "cell_type": "markdown",
   "id": "72d8ab3c",
   "metadata": {
    "id": "72d8ab3c"
   },
   "source": [
    "### **Exclusão de Registros**"
   ]
  },
  {
   "cell_type": "code",
   "execution_count": null,
   "id": "fc877c32",
   "metadata": {
    "id": "fc877c32"
   },
   "outputs": [],
   "source": [
    "DELETE FROM Vendas\n",
    "WHERE Quantidade = 0;"
   ]
  },
  {
   "cell_type": "markdown",
   "id": "qSASG3VXl0MH",
   "metadata": {
    "id": "qSASG3VXl0MH"
   },
   "source": [
    "Quando a tabela não for mais necessária:"
   ]
  },
  {
   "cell_type": "markdown",
   "id": "3d04ce72",
   "metadata": {
    "id": "3d04ce72"
   },
   "source": [
    "### **DROP TABLE**"
   ]
  },
  {
   "cell_type": "code",
   "execution_count": null,
   "id": "d6390ce8",
   "metadata": {
    "id": "d6390ce8"
   },
   "outputs": [],
   "source": [
    "DROP TABLE Vendas;"
   ]
  },
  {
   "cell_type": "markdown",
   "id": "97iEC04qmUmv",
   "metadata": {
    "id": "97iEC04qmUmv"
   },
   "source": [
    "## ⚠️ CUIDADOS:\n",
    "\n",
    "Todos os dados da tabela serão perdidos permanentemente.\n",
    "\n",
    "A estrutura da tabela também é removida — ou seja, não existe mais a tabela Vendas após a execução.\n",
    "\n",
    "Não pode ser desfeito (exceto se você tiver backup ou transações com rollback).\n",
    "\n",
    "Certifique-se de que nenhuma outra tabela depende da que será eliminada (chaves estrangeiras).\n",
    "\n",
    "Verifique se você não precisa mais dos dados.\n",
    "\n",
    "✅ Quando usar:\n",
    "\n",
    "Quando você não precisa mais da tabela nem dos dados.\n",
    "\n",
    "Durante processos de recriação de estrutura (ex: testes, desenvolvimento)."
   ]
  },
  {
   "cell_type": "markdown",
   "id": "3wci1yD0nPnH",
   "metadata": {
    "id": "3wci1yD0nPnH"
   },
   "source": [
    "## **Juntando as CTEs com Joins**"
   ]
  },
  {
   "cell_type": "code",
   "execution_count": null,
   "id": "9-j2pxOInCLW",
   "metadata": {
    "id": "9-j2pxOInCLW"
   },
   "outputs": [],
   "source": [
    "#Selecionando todos os pedidos feitos em 2023 junto com os clientes criados.\n",
    "\n",
    "With Pedidos2023 as\n",
    "(\n",
    "    select\n",
    "        cast(CREATED_AT as date) as Dia_Pedido,\n",
    "        Count(ID) as Pedidos_Feitos\n",
    "    from ORDERS\n",
    "    where\n",
    "        year(CREATED_AT) = 2023\n",
    "    group by Dia_Pedido\n",
    "    order by Dia_Pedido\n",
    "),\n",
    "\n",
    "Clientes2023 as\n",
    "(\n",
    "    Select\n",
    "        cast(CREATED_AT as date) as Dia_Cliente,\n",
    "        Count(ID) as Clientes_Cadastrados\n",
    "    From PEOPLE\n",
    "    where\n",
    "        year(CREATED_AT) = 2023\n",
    "    Group by Dia_Cliente\n",
    "    Order by Dia_Cliente\n",
    ")\n",
    "\n",
    "#Ao inserir a vírgula, podemos criar várias **CTEs dentro de um mesmo WITH**\n",
    "\n",
    "#Ao fim das CTEs, sempre será necessário criar um SELECT das informações.\n",
    "\n",
    "Select\n",
    "    Dia_Pedido as Dia,\n",
    "    Pedidos_Feitos as Pedidos_Feitos,\n",
    "    ifnull(Clientes_Cadastrados,0) as Clientes_Cadastrados\n",
    "from Pedidos2023\n",
    "\n",
    "left join Clientes2023 on Clientes2023.Dia_Cliente = Pedidos2023.Dia_Pedido\n",
    "\n",
    "#Join aplicado entre as CTEs com as Chaves comuns entre as 2\n",
    "\n",
    "where Month(Dia_Pedido) Between 1 and 2\n",
    "Group by Dia\n"
   ]
  },
  {
   "cell_type": "markdown",
   "id": "75U2dTPNoPde",
   "metadata": {
    "id": "75U2dTPNoPde"
   },
   "source": [
    "##**Juntando CTEs com UNION (tabela sob tabela)**"
   ]
  },
  {
   "cell_type": "markdown",
   "id": "4FdH-rRZoW41",
   "metadata": {
    "id": "4FdH-rRZoW41"
   },
   "source": [
    "Neste caso, colocaremos uma consulta sobre a outra, de modo que criará uma consulta única com duas informações\n",
    "Para este caso é importante que as tabelas possuam um mesmo padrão de análise para que não hajam desencontros\n",
    "\n",
    "Agrupando dados de Filiais:"
   ]
  },
  {
   "cell_type": "code",
   "execution_count": null,
   "id": "NQW5r7i_nfDv",
   "metadata": {
    "id": "NQW5r7i_nfDv"
   },
   "outputs": [],
   "source": [
    "#Selecionando cada filial dentro de uma CTE e especificando o período e modo de análise\n",
    "\n",
    "With FilialNE as\n",
    "(\n",
    "    select\n",
    "        *\n",
    "    from PEOPLE\n",
    "    where\n",
    "        STATE = 'NE' and year(CREATED_AT) = 2023\n",
    "),\n",
    "\n",
    "FilialMN as\n",
    "(\n",
    "    select\n",
    "        *\n",
    "    from PEOPLE\n",
    "    where\n",
    "        STATE = 'MN' and year(CREATED_AT) = 2023\n",
    "),\n",
    "\n",
    "#Abrindo uma 3ª CTE agrupando as 2 anteriores\n",
    "\n",
    "Filiais2023 as\n",
    "(\n",
    "    select * from FilialNE\n",
    "    union\n",
    "    select * from FilialMN\n",
    ")\n",
    "\n",
    "#Dessa forma é possível tratar as 2 de uma vez só\n",
    "\n",
    "Select\n",
    "    State,\n",
    "    Count(ID)\n",
    "from Filiais2023\n",
    "group by STATE"
   ]
  },
  {
   "cell_type": "markdown",
   "id": "754f9671",
   "metadata": {
    "id": "754f9671"
   },
   "source": [
    "## **CASE WHEN** (Aplicação do IF)"
   ]
  },
  {
   "cell_type": "markdown",
   "id": "JxZdl_9Zo6re",
   "metadata": {
    "id": "JxZdl_9Zo6re"
   },
   "source": [
    "É uma estrutura condicional (parecida com if em outras linguagens) que permite gerar valores diferentes com base em condições."
   ]
  },
  {
   "cell_type": "code",
   "execution_count": null,
   "id": "d91c76ad",
   "metadata": {
    "id": "d91c76ad"
   },
   "outputs": [],
   "source": [
    "SELECT\n",
    "    Id,\n",
    "    Total,\n",
    "    CASE\n",
    "        WHEN Total > 1000 THEN 'Alto'\n",
    "        WHEN Total BETWEEN 500 AND 1000 THEN 'Médio'\n",
    "        ELSE 'Baixo'\n",
    "    END AS Faixa_Valor\n",
    "FROM Orders;"
   ]
  },
  {
   "cell_type": "markdown",
   "id": "e6KRphJ5pS_m",
   "metadata": {
    "id": "e6KRphJ5pS_m"
   },
   "source": [
    "Deste modo, a tabela criará uma coluna com base nas classificações:"
   ]
  },
  {
   "cell_type": "markdown",
   "id": "e7nscZkNpEXG",
   "metadata": {
    "id": "e7nscZkNpEXG"
   },
   "source": [
    "* Se o valor total for maior que 1000, a linha receberá 'Alto' na coluna Faixa_Valor.\n",
    "\n",
    "* Se estiver entre 500 e 1000 (inclusive), receberá 'Médio'.\n",
    "\n",
    "* Se for menor que 500, receberá 'Baixo'."
   ]
  },
  {
   "cell_type": "markdown",
   "id": "MiHjubOOpjgO",
   "metadata": {
    "id": "MiHjubOOpjgO"
   },
   "source": [
    "Permite a criação de categorias específicas para divisão dos dados, entre outros usos\n"
   ]
  },
  {
   "cell_type": "markdown",
   "id": "lkzsU0eaJnxU",
   "metadata": {
    "id": "lkzsU0eaJnxU"
   },
   "source": [
    "## **Funções Úteis**"
   ]
  },
  {
   "cell_type": "markdown",
   "id": "Pm_I0zm7JxZM",
   "metadata": {
    "id": "Pm_I0zm7JxZM"
   },
   "source": [
    "Ppodemos aplicar algumas funções que facilitem a extração das informações das tabelas:"
   ]
  },
  {
   "cell_type": "code",
   "execution_count": null,
   "id": "4Wbmo_s7JmBd",
   "metadata": {
    "id": "4Wbmo_s7JmBd"
   },
   "outputs": [],
   "source": [
    "#Funções de texto:\n",
    "\n",
    "  select\n",
    "      Id,\n",
    "      Title,\n",
    "      Category,\n",
    "      Lower(Title) as \"CaixaBaixa\",\n",
    "      Upper(Title) as \"CaixaAlta\",\n",
    "      Concat(Title,\"|\",Category) as \"ConcatenandoTexto\",\n",
    "      Replace(Title,' ', '') as \"SubstituindoValores\"\n",
    "  from Products"
   ]
  },
  {
   "cell_type": "code",
   "execution_count": null,
   "id": "IeQ7j_gZJ6Cr",
   "metadata": {
    "id": "IeQ7j_gZJ6Cr"
   },
   "outputs": [],
   "source": [
    "#Funções de Data:\n",
    "\n",
    "  select\n",
    "      ID,\n",
    "      Title,\n",
    "      Created_At,\n",
    "      Cast(Created_At as date) as Data, - função Cast muda a tipagem de dado da coluna\n",
    "      Cast(Created_At as datetime) as DataHora,\n",
    "      Day(Created_At) as DiadaData,\n",
    "      Dayofweek(Created_At) as DiadaSemana,\n",
    "      DayofYear(Created_At) as DiadaSemana,\n",
    "      Month(Created_At) as Mes,\n",
    "      Year(Created_At) as Ano,\n",
    "      Now() as DiaAtual,\n",
    "      Cast(concat(\"2024\", \"/\",\"10\",\"/\",\"29\") as date) as CriandoData,\n",
    "      DateDiff(NOW(),Created_At) as DiferençaData\n",
    "   from Products"
   ]
  },
  {
   "cell_type": "code",
   "execution_count": null,
   "id": "XApirxtVKOsU",
   "metadata": {
    "id": "XApirxtVKOsU"
   },
   "outputs": [],
   "source": [
    "#Funções de número:\n",
    "\n",
    "  select\n",
    "      ID,\n",
    "      subtotal,\n",
    "      Discount,\n",
    "      Ceiling(subtotal),\n",
    "      Floor(subtotal),\n",
    "      Round(subtotal, 0),\n",
    "      coalesce(Discount,0),\n",
    "      ifnull(Discount,subtotal*0.01),\n",
    "      cast(subtotal as char)\n",
    "  from Orders"
   ]
  },
  {
   "cell_type": "markdown",
   "id": "f2DB7X-7Ke7r",
   "metadata": {
    "id": "f2DB7X-7Ke7r"
   },
   "source": [
    "Documentação com diversas funções de data [aqui](https://dev.mysql.com/doc/refman/8.4/en/date-and-time-functions.html#function_date-add)"
   ]
  }
 ],
 "metadata": {
  "colab": {
   "provenance": [],
   "toc_visible": true
  },
  "kernelspec": {
   "display_name": "Python 3",
   "name": "python3"
  },
  "language_info": {
   "name": "python"
  }
 },
 "nbformat": 4,
 "nbformat_minor": 5
}
